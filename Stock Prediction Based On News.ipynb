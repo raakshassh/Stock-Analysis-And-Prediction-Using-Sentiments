{
 "cells": [
  {
   "cell_type": "code",
   "execution_count": 3,
   "id": "f5f2cf4c",
   "metadata": {},
   "outputs": [
    {
     "data": {
      "text/plain": [
       "(   PK ticker        Date category  \\\n",
       " 0   0   AAPL  27-01-2020  opinion   \n",
       " 1   1   AAPL  27-01-2020  opinion   \n",
       " 2   2   AAPL  27-01-2020  opinion   \n",
       " 3   3   AAPL  27-01-2020  opinion   \n",
       " 4   4   AAPL  27-01-2020  opinion   \n",
       " \n",
       "                                                title  \\\n",
       " 0  Apple Set To Beat Q1 Earnings Estimates  Tech ...   \n",
       " 1  Tech Daily  Intel Results  Netflix Surge  Appl...   \n",
       " 2  7 Monster Stock Market Predictions For The Wee...   \n",
       " 3  Apple Earnings Preview  5G Launch  Expanding S...   \n",
       " 4  Buy Surging Apple   Microsoft Stock Before Qua...   \n",
       " \n",
       "                                              content       Open       High  \\\n",
       " 0  Technology giant Apple   NASDAQ AAPL   is set ...  77.514999  77.942497   \n",
       " 1  The top stories in this digest are Intel s   N...  77.514999  77.942497   \n",
       " 2  S P 500  SPY \\nThis week will be packed with e...  77.514999  77.942497   \n",
       " 3    Reports Q1 2020 results on Tuesday  Jan  28 ...  77.514999  77.942497   \n",
       " 4  On today s episode of Full Court Finance here ...  77.514999  77.942497   \n",
       " \n",
       "          Low      Close  Adj Close     Volume  label  \n",
       " 0  76.220001  77.237503  75.793358  161940000      0  \n",
       " 1  76.220001  77.237503  75.793358  161940000      0  \n",
       " 2  76.220001  77.237503  75.793358  161940000      0  \n",
       " 3  76.220001  77.237503  75.793358  161940000      0  \n",
       " 4  76.220001  77.237503  75.793358  161940000      0  ,\n",
       " Index(['PK', 'ticker', 'Date', 'category', 'title', 'content', 'Open', 'High',\n",
       "        'Low', 'Close', 'Adj Close', 'Volume', 'label'],\n",
       "       dtype='object'))"
      ]
     },
     "execution_count": 3,
     "metadata": {},
     "output_type": "execute_result"
    }
   ],
   "source": [
    "import pandas as pd\n",
    "\n",
    "# Load the uploaded CSV file\n",
    "file_path = 'C:/Users/ashut/Downloads/stock.csv'\n",
    "data = pd.read_csv(file_path)\n",
    "\n",
    "# Display the first few rows of the data to understand its structure\n",
    "data.head(), data.columns\n"
   ]
  },
  {
   "cell_type": "code",
   "execution_count": 4,
   "id": "428f807d",
   "metadata": {},
   "outputs": [
    {
     "data": {
      "text/plain": [
       "((800, 1006), (200, 1006), (800,), (200,))"
      ]
     },
     "execution_count": 4,
     "metadata": {},
     "output_type": "execute_result"
    }
   ],
   "source": [
    "from sklearn.model_selection import train_test_split\n",
    "from sklearn.preprocessing import StandardScaler\n",
    "from sklearn.feature_extraction.text import TfidfVectorizer\n",
    "\n",
    "# Select relevant numerical and textual columns\n",
    "numerical_columns = ['Open', 'High', 'Low', 'Close', 'Adj Close', 'Volume']\n",
    "textual_columns = ['title', 'content']\n",
    "\n",
    "# Separate numerical and textual data\n",
    "numerical_data = data[numerical_columns]\n",
    "textual_data = data[textual_columns]\n",
    "\n",
    "# Scale numerical data\n",
    "scaler = StandardScaler()\n",
    "scaled_numerical_data = scaler.fit_transform(numerical_data)\n",
    "\n",
    "# Combine text columns (title + content) for textual processing\n",
    "combined_textual_data = textual_data['title'] + ' ' + textual_data['content']\n",
    "\n",
    "# Vectorize textual data using TF-IDF\n",
    "tfidf_vectorizer = TfidfVectorizer(max_features=1000)  # Limiting to top 1000 features for performance\n",
    "textual_features = tfidf_vectorizer.fit_transform(combined_textual_data)\n",
    "\n",
    "# Convert the textual features to a dense format and combine with scaled numerical features\n",
    "import numpy as np\n",
    "\n",
    "textual_features_dense = textual_features.toarray()\n",
    "combined_features = np.hstack((scaled_numerical_data, textual_features_dense))\n",
    "\n",
    "# Define target variable\n",
    "target = data['label']\n",
    "\n",
    "# Split the data into training and testing sets\n",
    "X_train, X_test, y_train, y_test = train_test_split(combined_features, target, test_size=0.2, random_state=42)\n",
    "\n",
    "X_train.shape, X_test.shape, y_train.shape, y_test.shape\n"
   ]
  },
  {
   "cell_type": "code",
   "execution_count": 5,
   "id": "d7be65eb",
   "metadata": {},
   "outputs": [
    {
     "data": {
      "text/plain": [
       "(0.855,\n",
       " 0.8947368421052632,\n",
       " 0.7640449438202247,\n",
       " 0.8242424242424243,\n",
       " '              precision    recall  f1-score   support\\n\\n           0       0.83      0.93      0.88       111\\n           1       0.89      0.76      0.82        89\\n\\n    accuracy                           0.85       200\\n   macro avg       0.86      0.85      0.85       200\\nweighted avg       0.86      0.85      0.85       200\\n')"
      ]
     },
     "execution_count": 5,
     "metadata": {},
     "output_type": "execute_result"
    }
   ],
   "source": [
    "from sklearn.ensemble import RandomForestClassifier\n",
    "from sklearn.metrics import accuracy_score, precision_score, recall_score, f1_score, classification_report\n",
    "\n",
    "# Initialize and train the Random Forest classifier\n",
    "rf_model = RandomForestClassifier(random_state=42)\n",
    "rf_model.fit(X_train, y_train)\n",
    "\n",
    "# Make predictions on the test set\n",
    "y_pred = rf_model.predict(X_test)\n",
    "\n",
    "# Evaluate the model\n",
    "accuracy = accuracy_score(y_test, y_pred)\n",
    "precision = precision_score(y_test, y_pred)\n",
    "recall = recall_score(y_test, y_pred)\n",
    "f1 = f1_score(y_test, y_pred)\n",
    "classification_rep = classification_report(y_test, y_pred)\n",
    "\n",
    "accuracy, precision, recall, f1, classification_rep\n"
   ]
  },
  {
   "cell_type": "code",
   "execution_count": 6,
   "id": "242fd468",
   "metadata": {},
   "outputs": [
    {
     "data": {
      "image/png": "[encoded data removed]",
      "text/plain": [
       "<Figure size 1000x800 with 1 Axes>"
      ]
     },
     "metadata": {},
     "output_type": "display_data"
    }
   ],
   "source": [
    "import matplotlib.pyplot as plt\n",
    "import seaborn as sns\n",
    "\n",
    "# Extract feature importances from the trained Random Forest model\n",
    "feature_importances = rf_model.feature_importances_\n",
    "\n",
    "# Combine numerical feature names with the TF-IDF features\n",
    "tfidf_feature_names = tfidf_vectorizer.get_feature_names_out()\n",
    "all_feature_names = numerical_columns + list(tfidf_feature_names)\n",
    "\n",
    "# Create a DataFrame for feature importance\n",
    "feature_importance_df = pd.DataFrame({\n",
    "    'Feature': all_feature_names,\n",
    "    'Importance': feature_importances\n",
    "})\n",
    "\n",
    "# Sort the features by importance and select the top 20\n",
    "top_features = feature_importance_df.sort_values(by='Importance', ascending=False).head(20)\n",
    "\n",
    "# Plot the top 20 feature importances\n",
    "plt.figure(figsize=(10, 8))\n",
    "sns.barplot(x='Importance', y='Feature', data=top_features)\n",
    "plt.title('Top 20 Feature Importances in the Random Forest Model')\n",
    "plt.show()\n"
   ]
  },
  {
   "cell_type": "code",
   "execution_count": 11,
   "id": "d40b1e92",
   "metadata": {},
   "outputs": [
    {
     "name": "stdout",
     "output_type": "stream",
     "text": [
      "   PK ticker        Date category  \\\n",
      "0   0   AAPL  27-01-2020  opinion   \n",
      "1   1   AAPL  27-01-2020  opinion   \n",
      "2   2   AAPL  27-01-2020  opinion   \n",
      "3   3   AAPL  27-01-2020  opinion   \n",
      "4   4   AAPL  27-01-2020  opinion   \n",
      "\n",
      "                                               title  \\\n",
      "0  Apple Set To Beat Q1 Earnings Estimates  Tech ...   \n",
      "1  Tech Daily  Intel Results  Netflix Surge  Appl...   \n",
      "2  7 Monster Stock Market Predictions For The Wee...   \n",
      "3  Apple Earnings Preview  5G Launch  Expanding S...   \n",
      "4  Buy Surging Apple   Microsoft Stock Before Qua...   \n",
      "\n",
      "                                             content       Open       High  \\\n",
      "0  Technology giant Apple   NASDAQ AAPL   is set ...  77.514999  77.942497   \n",
      "1  The top stories in this digest are Intel s   N...  77.514999  77.942497   \n",
      "2  S P 500  SPY \\nThis week will be packed with e...  77.514999  77.942497   \n",
      "3    Reports Q1 2020 results on Tuesday  Jan  28 ...  77.514999  77.942497   \n",
      "4  On today s episode of Full Court Finance here ...  77.514999  77.942497   \n",
      "\n",
      "         Low      Close  Adj Close     Volume  label  \n",
      "0  76.220001  77.237503  75.793358  161940000      0  \n",
      "1  76.220001  77.237503  75.793358  161940000      0  \n",
      "2  76.220001  77.237503  75.793358  161940000      0  \n",
      "3  76.220001  77.237503  75.793358  161940000      0  \n",
      "4  76.220001  77.237503  75.793358  161940000      0  \n"
     ]
    }
   ],
   "source": [
    "import pandas as pd\n",
    "from sklearn.feature_extraction.text import TfidfVectorizer\n",
    "from sklearn.model_selection import train_test_split\n",
    "from sklearn.linear_model import LinearRegression\n",
    "from sklearn.metrics import mean_squared_error\n",
    "import numpy as np\n",
    "\n",
    "# Load the dataset\n",
    "data = pd.read_csv('C:/Users/ashut/Downloads/stock.csv')\n",
    "\n",
    "# Display the first few rows of the dataset\n",
    "print(data.head())\n"
   ]
  },
  {
   "cell_type": "code",
   "execution_count": 12,
   "id": "74ddae16",
   "metadata": {},
   "outputs": [],
   "source": [
    "import re\n",
    "\n",
    "# Function to preprocess the text\n",
    "def preprocess_text(text):\n",
    "    text = text.lower()  # Convert to lowercase\n",
    "    text = re.sub(r'[^a-z\\s]', '', text)  # Remove special characters\n",
    "    return text\n",
    "\n",
    "# Apply preprocessing to the title column\n",
    "data['processed_title'] = data['title'].apply(preprocess_text)\n"
   ]
  },
  {
   "cell_type": "code",
   "execution_count": 13,
   "id": "2f37417a",
   "metadata": {},
   "outputs": [],
   "source": [
    "# Initialize TF-IDF Vectorizer\n",
    "vectorizer = TfidfVectorizer()\n",
    "\n",
    "# Fit and transform the processed titles\n",
    "X = vectorizer.fit_transform(data['processed_title'])\n"
   ]
  },
  {
   "cell_type": "code",
   "execution_count": 14,
   "id": "a72c9181",
   "metadata": {},
   "outputs": [],
   "source": [
    "# Extract features (X) and target variable (y)\n",
    "y = data['Close'].values  # Assuming you're predicting the closing price\n",
    "\n",
    "# Split the data into training and testing sets\n",
    "X_train, X_test, y_train, y_test = train_test_split(X, y, test_size=0.2, random_state=42)\n"
   ]
  },
  {
   "cell_type": "code",
   "execution_count": 15,
   "id": "f18e9daa",
   "metadata": {},
   "outputs": [
    {
     "data": {
      "text/html": [
       "<style>#sk-container-id-1 {color: black;}#sk-container-id-1 pre{padding: 0;}#sk-container-id-1 div.sk-toggleable {background-color: white;}#sk-container-id-1 label.sk-toggleable__label {cursor: pointer;display: block;width: 100%;margin-bottom: 0;padding: 0.3em;box-sizing: border-box;text-align: center;}#sk-container-id-1 label.sk-toggleable__label-arrow:before {content: \"▸\";float: left;margin-right: 0.25em;color: #696969;}#sk-container-id-1 label.sk-toggleable__label-arrow:hover:before {color: black;}#sk-container-id-1 div.sk-estimator:hover label.sk-toggleable__label-arrow:before {color: black;}#sk-container-id-1 div.sk-toggleable__content {max-height: 0;max-width: 0;overflow: hidden;text-align: left;background-color: #f0f8ff;}#sk-container-id-1 div.sk-toggleable__content pre {margin: 0.2em;color: black;border-radius: 0.25em;background-color: #f0f8ff;}#sk-container-id-1 input.sk-toggleable__control:checked~div.sk-toggleable__content {max-height: 200px;max-width: 100%;overflow: auto;}#sk-container-id-1 input.sk-toggleable__control:checked~label.sk-toggleable__label-arrow:before {content: \"▾\";}#sk-container-id-1 div.sk-estimator input.sk-toggleable__control:checked~label.sk-toggleable__label {background-color: #d4ebff;}#sk-container-id-1 div.sk-label input.sk-toggleable__control:checked~label.sk-toggleable__label {background-color: #d4ebff;}#sk-container-id-1 input.sk-hidden--visually {border: 0;clip: rect(1px 1px 1px 1px);clip: rect(1px, 1px, 1px, 1px);height: 1px;margin: -1px;overflow: hidden;padding: 0;position: absolute;width: 1px;}#sk-container-id-1 div.sk-estimator {font-family: monospace;background-color: #f0f8ff;border: 1px dotted black;border-radius: 0.25em;box-sizing: border-box;margin-bottom: 0.5em;}#sk-container-id-1 div.sk-estimator:hover {background-color: #d4ebff;}#sk-container-id-1 div.sk-parallel-item::after {content: \"\";width: 100%;border-bottom: 1px solid gray;flex-grow: 1;}#sk-container-id-1 div.sk-label:hover label.sk-toggleable__label {background-color: #d4ebff;}#sk-container-id-1 div.sk-serial::before {content: \"\";position: absolute;border-left: 1px solid gray;box-sizing: border-box;top: 0;bottom: 0;left: 50%;z-index: 0;}#sk-container-id-1 div.sk-serial {display: flex;flex-direction: column;align-items: center;background-color: white;padding-right: 0.2em;padding-left: 0.2em;position: relative;}#sk-container-id-1 div.sk-item {position: relative;z-index: 1;}#sk-container-id-1 div.sk-parallel {display: flex;align-items: stretch;justify-content: center;background-color: white;position: relative;}#sk-container-id-1 div.sk-item::before, #sk-container-id-1 div.sk-parallel-item::before {content: \"\";position: absolute;border-left: 1px solid gray;box-sizing: border-box;top: 0;bottom: 0;left: 50%;z-index: -1;}#sk-container-id-1 div.sk-parallel-item {display: flex;flex-direction: column;z-index: 1;position: relative;background-color: white;}#sk-container-id-1 div.sk-parallel-item:first-child::after {align-self: flex-end;width: 50%;}#sk-container-id-1 div.sk-parallel-item:last-child::after {align-self: flex-start;width: 50%;}#sk-container-id-1 div.sk-parallel-item:only-child::after {width: 0;}#sk-container-id-1 div.sk-dashed-wrapped {border: 1px dashed gray;margin: 0 0.4em 0.5em 0.4em;box-sizing: border-box;padding-bottom: 0.4em;background-color: white;}#sk-container-id-1 div.sk-label label {font-family: monospace;font-weight: bold;display: inline-block;line-height: 1.2em;}#sk-container-id-1 div.sk-label-container {text-align: center;}#sk-container-id-1 div.sk-container {/* jupyter's `normalize.less` sets `[hidden] { display: none; }` but bootstrap.min.css set `[hidden] { display: none !important; }` so we also need the `!important` here to be able to override the default hidden behavior on the sphinx rendered scikit-learn.org. See: https://github.com/scikit-learn/scikit-learn/issues/21755 */display: inline-block !important;position: relative;}#sk-container-id-1 div.sk-text-repr-fallback {display: none;}</style><div id=\"sk-container-id-1\" class=\"sk-top-container\"><div class=\"sk-text-repr-fallback\"><pre>LinearRegression()</pre><b>In a Jupyter environment, please rerun this cell to show the HTML representation or trust the notebook. <br />On GitHub, the HTML representation is unable to render, please try loading this page with nbviewer.org.</b></div><div class=\"sk-container\" hidden><div class=\"sk-item\"><div class=\"sk-estimator sk-toggleable\"><input class=\"sk-toggleable__control sk-hidden--visually\" id=\"sk-estimator-id-1\" type=\"checkbox\" checked><label for=\"sk-estimator-id-1\" class=\"sk-toggleable__label sk-toggleable__label-arrow\">LinearRegression</label><div class=\"sk-toggleable__content\"><pre>LinearRegression()</pre></div></div></div></div></div>"
      ],
      "text/plain": [
       "LinearRegression()"
      ]
     },
     "execution_count": 15,
     "metadata": {},
     "output_type": "execute_result"
    }
   ],
   "source": [
    "# Initialize and train the model\n",
    "model = LinearRegression()\n",
    "model.fit(X_train, y_train)\n"
   ]
  },
  {
   "cell_type": "code",
   "execution_count": 16,
   "id": "a6454ecd",
   "metadata": {},
   "outputs": [
    {
     "name": "stdout",
     "output_type": "stream",
     "text": [
      "Root Mean Squared Error: 12.297546488458297\n"
     ]
    }
   ],
   "source": [
    "# Make predictions\n",
    "y_pred = model.predict(X_test)\n",
    "\n",
    "# Evaluate the model\n",
    "mse = mean_squared_error(y_test, y_pred)\n",
    "rmse = np.sqrt(mse)\n",
    "print(f'Root Mean Squared Error: {rmse}')\n"
   ]
  },
  {
   "cell_type": "code",
   "execution_count": 17,
   "id": "2e775d25",
   "metadata": {},
   "outputs": [],
   "source": [
    "# For simplicity, let’s add the previous day’s close price as a feature\n",
    "data['Prev_Close'] = data['Close'].shift(1)\n",
    "data.dropna(inplace=True)  # Remove rows with NaN values\n",
    "\n",
    "# Update target and features\n",
    "X = vectorizer.transform(data['processed_title'])\n",
    "X = pd.concat([pd.DataFrame(X.toarray()), data[['Prev_Close']].reset_index(drop=True)], axis=1)\n",
    "y = data['Close'].values\n",
    "\n",
    "# Update train-test split\n",
    "X_train, X_test, y_train, y_test = train_test_split(X, y, test_size=0.2, random_state=42)\n"
   ]
  },
  {
   "cell_type": "code",
   "execution_count": 20,
   "id": "2dca3f82",
   "metadata": {},
   "outputs": [
    {
     "name": "stdout",
     "output_type": "stream",
     "text": [
      "<class 'pandas.core.frame.DataFrame'>\n"
     ]
    }
   ],
   "source": [
    "print(type(X))\n"
   ]
  },
  {
   "cell_type": "code",
   "execution_count": 21,
   "id": "9a9e641a",
   "metadata": {},
   "outputs": [],
   "source": [
    "# Ensure column names of X are strings\n",
    "X.columns = [str(i) for i in X.columns]\n"
   ]
  },
  {
   "cell_type": "code",
   "execution_count": 22,
   "id": "b06c6545",
   "metadata": {},
   "outputs": [],
   "source": [
    "# Extract additional features\n",
    "additional_features_df = data[['Prev_Close']].reset_index(drop=True)\n",
    "additional_features_df.columns = ['Prev_Close']\n",
    "\n",
    "# Combine TF-IDF features with additional features\n",
    "X_combined = pd.concat([X, additional_features_df], axis=1)\n",
    "\n",
    "# Ensure the combined DataFrame has correct column names\n",
    "X_combined.columns = [str(col) for col in X_combined.columns]\n"
   ]
  },
  {
   "cell_type": "code",
   "execution_count": 23,
   "id": "b01476c5",
   "metadata": {},
   "outputs": [],
   "source": [
    "# Update target variable\n",
    "y = data['Close'].values\n",
    "\n",
    "# Split the data into training and testing sets\n",
    "from sklearn.model_selection import train_test_split\n",
    "\n",
    "X_train, X_test, y_train, y_test = train_test_split(X_combined, y, test_size=0.2, random_state=42)\n"
   ]
  },
  {
   "cell_type": "code",
   "execution_count": 24,
   "id": "cc8b2e29",
   "metadata": {},
   "outputs": [
    {
     "name": "stdout",
     "output_type": "stream",
     "text": [
      "Random Forest - Root Mean Squared Error: 0.9144021107435302\n"
     ]
    }
   ],
   "source": [
    "from sklearn.ensemble import RandomForestRegressor\n",
    "from sklearn.metrics import mean_squared_error\n",
    "import numpy as np\n",
    "\n",
    "# Initialize and train the model\n",
    "rf_model = RandomForestRegressor(n_estimators=100, random_state=42)\n",
    "rf_model.fit(X_train, y_train)\n",
    "\n",
    "# Make predictions\n",
    "y_pred_rf = rf_model.predict(X_test)\n",
    "\n",
    "# Evaluate the model\n",
    "mse_rf = mean_squared_error(y_test, y_pred_rf)\n",
    "rmse_rf = np.sqrt(mse_rf)\n",
    "print(f'Random Forest - Root Mean Squared Error: {rmse_rf}')\n"
   ]
  },
  {
   "cell_type": "code",
   "execution_count": 25,
   "id": "90aab0ef",
   "metadata": {},
   "outputs": [
    {
     "data": {
      "text/html": [
       "<div>\n",
       "<style scoped>\n",
       "    .dataframe tbody tr th:only-of-type {\n",
       "        vertical-align: middle;\n",
       "    }\n",
       "\n",
       "    .dataframe tbody tr th {\n",
       "        vertical-align: top;\n",
       "    }\n",
       "\n",
       "    .dataframe thead th {\n",
       "        text-align: right;\n",
       "    }\n",
       "</style>\n",
       "<table border=\"1\" class=\"dataframe\">\n",
       "  <thead>\n",
       "    <tr style=\"text-align: right;\">\n",
       "      <th></th>\n",
       "      <th>Feature</th>\n",
       "      <th>Importance</th>\n",
       "    </tr>\n",
       "  </thead>\n",
       "  <tbody>\n",
       "    <tr>\n",
       "      <th>0</th>\n",
       "      <td>0</td>\n",
       "      <td>0.000000e+00</td>\n",
       "    </tr>\n",
       "    <tr>\n",
       "      <th>1</th>\n",
       "      <td>1</td>\n",
       "      <td>0.000000e+00</td>\n",
       "    </tr>\n",
       "    <tr>\n",
       "      <th>2</th>\n",
       "      <td>2</td>\n",
       "      <td>4.961299e-06</td>\n",
       "    </tr>\n",
       "    <tr>\n",
       "      <th>3</th>\n",
       "      <td>3</td>\n",
       "      <td>0.000000e+00</td>\n",
       "    </tr>\n",
       "    <tr>\n",
       "      <th>4</th>\n",
       "      <td>4</td>\n",
       "      <td>0.000000e+00</td>\n",
       "    </tr>\n",
       "    <tr>\n",
       "      <th>...</th>\n",
       "      <td>...</td>\n",
       "      <td>...</td>\n",
       "    </tr>\n",
       "    <tr>\n",
       "      <th>2729</th>\n",
       "      <td>2729</td>\n",
       "      <td>3.945638e-19</td>\n",
       "    </tr>\n",
       "    <tr>\n",
       "      <th>2730</th>\n",
       "      <td>2730</td>\n",
       "      <td>0.000000e+00</td>\n",
       "    </tr>\n",
       "    <tr>\n",
       "      <th>2731</th>\n",
       "      <td>2731</td>\n",
       "      <td>0.000000e+00</td>\n",
       "    </tr>\n",
       "    <tr>\n",
       "      <th>2732</th>\n",
       "      <td>Prev_Close</td>\n",
       "      <td>5.425664e-01</td>\n",
       "    </tr>\n",
       "    <tr>\n",
       "      <th>2733</th>\n",
       "      <td>Prev_Close</td>\n",
       "      <td>4.432662e-01</td>\n",
       "    </tr>\n",
       "  </tbody>\n",
       "</table>\n",
       "<p>2734 rows × 2 columns</p>\n",
       "</div>"
      ],
      "text/plain": [
       "         Feature    Importance\n",
       "0              0  0.000000e+00\n",
       "1              1  0.000000e+00\n",
       "2              2  4.961299e-06\n",
       "3              3  0.000000e+00\n",
       "4              4  0.000000e+00\n",
       "...          ...           ...\n",
       "2729        2729  3.945638e-19\n",
       "2730        2730  0.000000e+00\n",
       "2731        2731  0.000000e+00\n",
       "2732  Prev_Close  5.425664e-01\n",
       "2733  Prev_Close  4.432662e-01\n",
       "\n",
       "[2734 rows x 2 columns]"
      ]
     },
     "execution_count": 25,
     "metadata": {},
     "output_type": "execute_result"
    }
   ],
   "source": [
    "importances = rf_model.feature_importances_\n",
    "feature_names = X_combined.columns\n",
    "feature_importance_df = pd.DataFrame({'Feature': feature_names, 'Importance': importances})\n",
    "feature_importance_df\n"
   ]
  },
  {
   "cell_type": "code",
   "execution_count": 26,
   "id": "99f64b08",
   "metadata": {},
   "outputs": [
    {
     "name": "stdout",
     "output_type": "stream",
     "text": [
      "Cross-Validated RMSE: 2.253560767225555\n"
     ]
    }
   ],
   "source": [
    "from sklearn.model_selection import cross_val_score\n",
    "\n",
    "# Perform cross-validation\n",
    "cv_scores = cross_val_score(rf_model, X_combined, y, cv=5, scoring='neg_mean_squared_error')\n",
    "mean_cv_score = -cv_scores.mean()\n",
    "rmse_cv = np.sqrt(mean_cv_score)\n",
    "print(f'Cross-Validated RMSE: {rmse_cv}')\n"
   ]
  },
  {
   "cell_type": "code",
   "execution_count": 27,
   "id": "2413b7c7",
   "metadata": {},
   "outputs": [
    {
     "name": "stdout",
     "output_type": "stream",
     "text": [
      "Gradient Boosting - Root Mean Squared Error: 0.9011118385859408\n"
     ]
    }
   ],
   "source": [
    "from sklearn.ensemble import GradientBoostingRegressor\n",
    "\n",
    "# Initialize and train the model\n",
    "gb_model = GradientBoostingRegressor(n_estimators=100, random_state=42)\n",
    "gb_model.fit(X_train, y_train)\n",
    "\n",
    "# Make predictions\n",
    "y_pred_gb = gb_model.predict(X_test)\n",
    "\n",
    "# Evaluate the model\n",
    "mse_gb = mean_squared_error(y_test, y_pred_gb)\n",
    "rmse_gb = np.sqrt(mse_gb)\n",
    "print(f'Gradient Boosting - Root Mean Squared Error: {rmse_gb}')\n"
   ]
  },
  {
   "cell_type": "code",
   "execution_count": 28,
   "id": "2af5b159",
   "metadata": {},
   "outputs": [
    {
     "name": "stdout",
     "output_type": "stream",
     "text": [
      "Support Vector Regressor - Root Mean Squared Error: 0.9841105253866157\n"
     ]
    }
   ],
   "source": [
    "from sklearn.svm import SVR\n",
    "\n",
    "# Initialize and train the model\n",
    "svr_model = SVR()\n",
    "svr_model.fit(X_train, y_train)\n",
    "\n",
    "# Make predictions\n",
    "y_pred_svr = svr_model.predict(X_test)\n",
    "\n",
    "# Evaluate the model\n",
    "mse_svr = mean_squared_error(y_test, y_pred_svr)\n",
    "rmse_svr = np.sqrt(mse_svr)\n",
    "print(f'Support Vector Regressor - Root Mean Squared Error: {rmse_svr}')\n"
   ]
  },
  {
   "cell_type": "code",
   "execution_count": 29,
   "id": "719a2b58",
   "metadata": {},
   "outputs": [
    {
     "name": "stdout",
     "output_type": "stream",
     "text": [
      "Best Parameters: {'learning_rate': 0.1, 'max_depth': 3, 'n_estimators': 100}\n",
      "Best Gradient Boosting - Root Mean Squared Error: 0.9011118385859408\n"
     ]
    }
   ],
   "source": [
    "from sklearn.model_selection import GridSearchCV\n",
    "\n",
    "# Define the parameter grid\n",
    "param_grid = {\n",
    "    'n_estimators': [100, 200],\n",
    "    'learning_rate': [0.01, 0.1],\n",
    "    'max_depth': [3, 5]\n",
    "}\n",
    "\n",
    "grid_search = GridSearchCV(estimator=GradientBoostingRegressor(random_state=42), param_grid=param_grid, cv=3, scoring='neg_mean_squared_error')\n",
    "grid_search.fit(X_train, y_train)\n",
    "\n",
    "# Best parameters and model\n",
    "print(f'Best Parameters: {grid_search.best_params_}')\n",
    "best_gb_model = grid_search.best_estimator_\n",
    "\n",
    "# Evaluate the best model\n",
    "y_pred_best_gb = best_gb_model.predict(X_test)\n",
    "mse_best_gb = mean_squared_error(y_test, y_pred_best_gb)\n",
    "rmse_best_gb = np.sqrt(mse_best_gb)\n",
    "print(f'Best Gradient Boosting - Root Mean Squared Error: {rmse_best_gb}')\n"
   ]
  },
  {
   "cell_type": "code",
   "execution_count": 31,
   "id": "594b08a2",
   "metadata": {},
   "outputs": [
    {
     "name": "stdout",
     "output_type": "stream",
     "text": [
      "         Feature  Importance\n",
      "2732  Prev_Close    0.542566\n",
      "2733  Prev_Close    0.443266\n",
      "2508        2508    0.001149\n",
      "1280        1280    0.000908\n",
      "1444        1444    0.000742\n",
      "...          ...         ...\n",
      "1329        1329    0.000000\n",
      "1327        1327    0.000000\n",
      "1326        1326    0.000000\n",
      "1325        1325    0.000000\n",
      "0              0    0.000000\n",
      "\n",
      "[2734 rows x 2 columns]\n"
     ]
    }
   ],
   "source": [
    "# Feature importance for Random Forest\n",
    "importances = rf_model.feature_importances_\n",
    "feature_names = X_combined.columns\n",
    "feature_importance_df = pd.DataFrame({'Feature': feature_names, 'Importance': importances})\n",
    "feature_importance_df = feature_importance_df.sort_values(by='Importance', ascending=False)\n",
    "print(feature_importance_df)\n"
   ]
  },
  {
   "cell_type": "code",
   "execution_count": 32,
   "id": "45e4640d",
   "metadata": {},
   "outputs": [
    {
     "name": "stdout",
     "output_type": "stream",
     "text": [
      "    Feature   Coefficient\n",
      "448     448  7.414833e+11\n",
      "113     113  6.361296e+11\n",
      "69       69  3.680076e+11\n",
      "327     327  3.657691e+11\n",
      "79       79  3.087788e+11\n",
      "..      ...           ...\n",
      "13       13 -2.842773e+11\n",
      "1         1 -3.189289e+11\n",
      "10       10 -3.285652e+11\n",
      "318     318 -3.457937e+11\n",
      "395     395 -4.553269e+11\n",
      "\n",
      "[2734 rows x 2 columns]\n"
     ]
    }
   ],
   "source": [
    "from sklearn.linear_model import LinearRegression\n",
    "\n",
    "# Initialize and train the model\n",
    "lr_model = LinearRegression()\n",
    "lr_model.fit(X_train, y_train)\n",
    "\n",
    "# Get coefficients\n",
    "coefficients = lr_model.coef_\n",
    "feature_names = X_combined.columns\n",
    "coefficients_df = pd.DataFrame({'Feature': feature_names, 'Coefficient': coefficients})\n",
    "coefficients_df = coefficients_df.sort_values(by='Coefficient', ascending=False)\n",
    "print(coefficients_df)\n"
   ]
  },
  {
   "cell_type": "code",
   "execution_count": 35,
   "id": "8a272bde",
   "metadata": {},
   "outputs": [
    {
     "name": "stdout",
     "output_type": "stream",
     "text": [
      "Duplicate columns: Index(['Prev_Close'], dtype='object')\n"
     ]
    }
   ],
   "source": [
    "# Check for duplicate column names\n",
    "duplicate_columns = X_train.columns[X_train.columns.duplicated()]\n",
    "print(f'Duplicate columns: {duplicate_columns}')\n"
   ]
  },
  {
   "cell_type": "code",
   "execution_count": 36,
   "id": "af33ab95",
   "metadata": {},
   "outputs": [],
   "source": [
    "# Rename duplicate columns by appending a suffix\n",
    "def rename_duplicate_columns(df):\n",
    "    cols = pd.Series(df.columns)\n",
    "    for dup in cols[cols.duplicated()].unique(): \n",
    "        cols[cols[cols == dup].index.values.tolist()] = [dup + '_' + str(i) if i != 0 else dup for i in range(sum(cols == dup))]\n",
    "    df.columns = cols\n",
    "\n",
    "# Rename duplicate columns in X_train\n",
    "rename_duplicate_columns(X_train)\n"
   ]
  },
  {
   "cell_type": "code",
   "execution_count": 37,
   "id": "0a6e3f61",
   "metadata": {},
   "outputs": [
    {
     "data": {
      "image/png": "[encoded data removed]",
      "text/plain": [
       "<Figure size 1200x600 with 4 Axes>"
      ]
     },
     "metadata": {},
     "output_type": "display_data"
    }
   ],
   "source": [
    "from sklearn.inspection import PartialDependenceDisplay\n",
    "import matplotlib.pyplot as plt\n",
    "\n",
    "# Plot partial dependence for specific features\n",
    "fig, ax = plt.subplots(figsize=(12, 6))\n",
    "display = PartialDependenceDisplay.from_estimator(\n",
    "    rf_model,\n",
    "    X_train,\n",
    "    features=[0, 1, 2],  # Replace with indices or feature names you want to analyze\n",
    "    ax=ax,\n",
    "    grid_resolution=50\n",
    ")\n",
    "plt.show()\n"
   ]
  }
 ],
 "metadata": {
  "kernelspec": {
   "display_name": "Python 3 (ipykernel)",
   "language": "python",
   "name": "python3"
  },
  "language_info": {
   "codemirror_mode": {
    "name": "ipython",
    "version": 3
   },
   "file_extension": ".py",
   "mimetype": "text/x-python",
   "name": "python",
   "nbconvert_exporter": "python",
   "pygments_lexer": "ipython3",
   "version": "3.11.5"
  }
 },
 "nbformat": 4,
 "nbformat_minor": 5
}
